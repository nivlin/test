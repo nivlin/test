{
    "cells": [
        {
            "cell_type": "code",
            "execution_count": 2,
            "metadata": {},
            "outputs": [
                {
                    "name": "stdout",
                    "output_type": "stream",
                    "text": "+--------------------+--------------------+------------------+----------------------+-----------+--------------------+-----------+-----+--------------+----------+\n|         companyname|      companywebsite|companyemaildomain|linkedincompanypageurl|stocksymbol|            industry|       city|state|companycountry|   zipcode|\n+--------------------+--------------------+------------------+----------------------+-----------+--------------------+-----------+-----+--------------+----------+\n|AddTran Logistics...| http://addtran.com/|              null|  https://www.linke...|       null|Transportation/Tr...|    Albany |   GA|            US|     31705|\n|         VEO Robotic|https://www.veobo...|              null|  https://www.linke...|       null|Industrial Automa...|    Waltham|   MA|            US|      2452|\n|    Charles Industry|http://www.charle...|              null|  https://www.linke...|       null|  Telecommunications| Schaumburg|   IL|            US|60173-5492|\n|              Vertiv|https://www.verti...|              null|  https://www.linke...|        VRT|Electrical & Elec...|   Columbus|   OH|            US|     43085|\n|            Comscope|https://www.comsc...|              null|  https://www.linke...|       null|Commercial Real E...|North Perth|   WA|     Australia|      6006|\n+--------------------+--------------------+------------------+----------------------+-----------+--------------------+-----------+-----+--------------+----------+\nonly showing top 5 rows\n\n"
                },
                {
                    "data": {
                        "text/plain": "configurationName = os_ca49b5627eff4928b7c1ec37cbac2dc2_configs\ncos = com.ibm.ibmos2spark.CloudObjectStorage@2adca124\nspark = org.apache.spark.sql.SparkSession@9db935c4\ndfData1 = [companyname: string, companywebsite: string ... 8 more fields]\n"
                    },
                    "metadata": {},
                    "output_type": "display_data"
                },
                {
                    "data": {
                        "text/plain": "getCredentials: ()scala.collection.mutable.HashMap[String,String]\n"
                    },
                    "metadata": {},
                    "output_type": "display_data"
                },
                {
                    "data": {
                        "text/plain": "[companyname: string, companywebsite: string ... 8 more fields]"
                    },
                    "execution_count": 2,
                    "metadata": {},
                    "output_type": "execute_result"
                }
            ],
            "source": "// The code was removed by Watson Studio for sharing."
        },
        {
            "cell_type": "code",
            "execution_count": null,
            "metadata": {},
            "outputs": [],
            "source": ""
        },
        {
            "cell_type": "code",
            "execution_count": null,
            "metadata": {},
            "outputs": [],
            "source": ""
        }
    ],
    "metadata": {
        "kernelspec": {
            "display_name": "Scala 2.11 with Spark",
            "language": "scala",
            "name": "scala"
        },
        "language_info": {
            "codemirror_mode": "text/x-scala",
            "file_extension": ".scala",
            "mimetype": "text/x-scala",
            "name": "scala",
            "pygments_lexer": "scala",
            "version": "2.11.12"
        }
    },
    "nbformat": 4,
    "nbformat_minor": 1
}